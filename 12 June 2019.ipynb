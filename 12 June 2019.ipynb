{
 "cells": [
  {
   "cell_type": "markdown",
   "metadata": {},
   "source": [
    "# Problem solving and programming\n",
    "## 12 june 2019"
   ]
  },
  {
   "cell_type": "markdown",
   "metadata": {},
   "source": [
    "## string slicing"
   ]
  },
  {
   "cell_type": "code",
   "execution_count": 26,
   "metadata": {},
   "outputs": [
    {
     "data": {
      "text/plain": [
       "'p'"
      ]
     },
     "execution_count": 26,
     "metadata": {},
     "output_type": "execute_result"
    }
   ],
   "source": [
    "s1=\"python123\"\n",
    "#s1[-1]\n",
    "s1[len(s1)-1]\n",
    "s1[0:4]\n",
    "s1[-1:-2]\n",
    "s1[-2:]    #accessing the last two char in a string\n",
    "s1[1:]     #accessing all characters after 2nd position\n",
    "s1[1:-1]   #accessing all char except first and last\n",
    "s1[len(s1)//2]   #accessing middle char of given string\n",
    "s1[-1::-1]#reverse of string\n",
    "s1[-1:-3:-1]#accessing last two char in reverse order\n",
    "s1[len(s1)//2:]#reverse the middle two char in an even length string\n",
    "s1[1:3]\n",
    "s1[-1:]\n",
    "s1[1::3]\n",
    "s1[0::-1]\n",
    "\n"
   ]
  },
  {
   "cell_type": "markdown",
   "metadata": {},
   "source": [
    "## leapyear"
   ]
  },
  {
   "cell_type": "code",
   "execution_count": 30,
   "metadata": {},
   "outputs": [
    {
     "data": {
      "text/plain": [
       "'true'"
      ]
     },
     "execution_count": 30,
     "metadata": {},
     "output_type": "execute_result"
    }
   ],
   "source": [
    "#check given number is leap year or not\n",
    "def isleapyear(year):\n",
    "    if year%400==0 or (year%4==0) and (year%100!=0):\n",
    "       return \"true\"\n",
    "    return \"false\"\n",
    "isleapyear(2016)\n"
   ]
  },
  {
   "cell_type": "code",
   "execution_count": 32,
   "metadata": {},
   "outputs": [
    {
     "data": {
      "text/plain": [
       "[3]"
      ]
     },
     "execution_count": 32,
     "metadata": {},
     "output_type": "execute_result"
    }
   ],
   "source": [
    "#function to count the number of digits in a given number\n",
    "def digit(d):\n",
    "    k=[len(str(d))]\n",
    "    return k\n",
    "digit(123)"
   ]
  },
  {
   "cell_type": "code",
   "execution_count": null,
   "metadata": {},
   "outputs": [],
   "source": [
    "#greatest of the numbers\n",
    "def greatest(a):\n",
    "    a=(12,14,15)\n",
    "    "
   ]
  },
  {
   "cell_type": "markdown",
   "metadata": {},
   "source": [
    "## iteration\n",
    "### for\n",
    "### while"
   ]
  },
  {
   "cell_type": "code",
   "execution_count": 36,
   "metadata": {
    "scrolled": true
   },
   "outputs": [
    {
     "name": "stdout",
     "output_type": "stream",
     "text": [
      "1 2 3 4 5 6 7 8 9 10 11 12 13 14 15 16 17 18 19 20 "
     ]
    }
   ],
   "source": [
    "#function to print n natural numbers\n",
    "\n",
    "def printNnaturalnumbers(n):\n",
    "    for counter in range(1,n+1):\n",
    "        print(counter, end=\" \")\n",
    "    return\n",
    "printNnaturalnumbers(20)"
   ]
  },
  {
   "cell_type": "code",
   "execution_count": 40,
   "metadata": {},
   "outputs": [
    {
     "name": "stdout",
     "output_type": "stream",
     "text": [
      "1 2 3 4 5 6 7 8 9 10 "
     ]
    }
   ],
   "source": [
    "def printNnaturalnumbers(n):\n",
    "    counter=1\n",
    "    while counter <= n:\n",
    "        print(counter, end=\" \")\n",
    "        counter=counter+1\n",
    "    return\n",
    "printNnaturalnumbers(10)"
   ]
  },
  {
   "cell_type": "code",
   "execution_count": 5,
   "metadata": {},
   "outputs": [
    {
     "name": "stdout",
     "output_type": "stream",
     "text": [
      "102 108 114 120 126 132 138 144 150 156 162 168 174 180 186 192 198 "
     ]
    }
   ],
   "source": [
    "#function to print all numbers divisible by 6\n",
    "#and not a factor of 100 in a given range(lb, ub) inclusive\n",
    "\n",
    "def printallnumbers(lb,ub):\n",
    "    for i in range(lb,ub+1):\n",
    "        if (i % 6==0) and (100 % i!=0):\n",
    "           print(i, end=\" \")\n",
    "    return\n",
    "printallnumbers(100,200)\n"
   ]
  },
  {
   "cell_type": "code",
   "execution_count": 26,
   "metadata": {},
   "outputs": [
    {
     "data": {
      "text/plain": [
       "360.0"
      ]
     },
     "execution_count": 26,
     "metadata": {},
     "output_type": "execute_result"
    }
   ],
   "source": [
    "#avg of cubes of all even numbers in a given range\n",
    "def printallnumbers(lb,ub):\n",
    "    count=0\n",
    "    sum=0\n",
    "    for i in range(lb,ub+1):\n",
    "        if i%2==0:\n",
    "            #print(i)\n",
    "            k=i**3\n",
    "            #print(k)\n",
    "            count=count+1\n",
    "            sum=sum+k\n",
    "            #print(k)\n",
    "            #print(sum)\n",
    "            #print(count)\n",
    "    p=sum/count\n",
    "    return p\n",
    "printallnumbers(1,10)\n",
    "        \n",
    "        \n"
   ]
  },
  {
   "cell_type": "code",
   "execution_count": 32,
   "metadata": {},
   "outputs": [
    {
     "name": "stdout",
     "output_type": "stream",
     "text": [
      "1\n",
      "2\n",
      "5\n",
      "10\n"
     ]
    }
   ],
   "source": [
    "#function to generate the list of factors of given number\n",
    "def printfactors(n):\n",
    "    for i in range(1,n+1):\n",
    "        if n%i==0:\n",
    "            print(i)\n",
    "    return\n",
    "printfactors(10)\n",
    "        "
   ]
  },
  {
   "cell_type": "code",
   "execution_count": 15,
   "metadata": {},
   "outputs": [
    {
     "name": "stdout",
     "output_type": "stream",
     "text": [
      "not prime\n"
     ]
    }
   ],
   "source": [
    "#check given number is prime \n",
    "def prime(n):\n",
    "    count=0\n",
    "    for i in range(1,n+1):\n",
    "        if\n",
    "            count=count+1\n",
    "    if count==2:\n",
    "        print(\"prime\")\n",
    "    else:\n",
    "        print(\"not prime\")\n",
    "    return\n",
    "prime(3)\n",
    "            \n",
    "    "
   ]
  },
  {
   "cell_type": "code",
   "execution_count": 40,
   "metadata": {},
   "outputs": [
    {
     "name": "stdout",
     "output_type": "stream",
     "text": [
      "enter 1st no  : 10\n",
      "enter 2nd no  : 20\n"
     ]
    },
    {
     "data": {
      "text/plain": [
       "15.0"
      ]
     },
     "execution_count": 40,
     "metadata": {},
     "output_type": "execute_result"
    }
   ],
   "source": [
    "#average of first n prime numbers\n",
    "def primeavg():\n",
    "   \n",
    "   l=int(input('enter 1st no  : '))\n",
    "   u=int(input('enter 2nd no  : '))\n",
    "   sum=0\n",
    "   count=0\n",
    "   for num in range(l,u + 1):\n",
    "       if num > 1:\n",
    "          for i in range(2,num):\n",
    "             #print(i)\n",
    "             if (num % i) == 0:\n",
    "                  break\n",
    "          else:\n",
    "           #print(num)\n",
    "           sum=sum+num\n",
    "           count=count+1\n",
    "   return (sum/count)\n",
    "   \n",
    "primeavg()\n",
    "\n",
    "        \n",
    "        "
   ]
  },
  {
   "cell_type": "code",
   "execution_count": 38,
   "metadata": {},
   "outputs": [
    {
     "name": "stdout",
     "output_type": "stream",
     "text": [
      "6 28 496 "
     ]
    }
   ],
   "source": [
    "#function to generate all perfect numbers in a given range\n",
    "\n",
    "def factors_sum(i):\n",
    "    sum=0\n",
    "    for j in range(1,i):\n",
    "        if i%j==0:\n",
    "            sum+=j\n",
    "    return sum\n",
    "def perfect(lb,ub):\n",
    "    sum=0\n",
    "    for i in range(lb,ub):\n",
    "        x=factors_sum(i)\n",
    "        if i==x:\n",
    "            print(i,end=\" \")\n",
    "    return\n",
    "perfect(1,1500)"
   ]
  },
  {
   "cell_type": "code",
   "execution_count": 17,
   "metadata": {},
   "outputs": [
    {
     "name": "stdout",
     "output_type": "stream",
     "text": [
      "500 504 508 512 516 520 524 528 532 536 540 544 548 "
     ]
    }
   ],
   "source": [
    "#function to print the alternate values in a range\n",
    "#[500,550]-->inclusive set i.e,starting value is 500 and ending value is 550\n",
    "#(500,550)-->exclusive set i.e,starting value is 501 and ending value is 549\n",
    "#range(500,550)-->500 501 502 ....549\n",
    "#all set functions in python have start value inclusive \n",
    "\n",
    "def alternatevalues(start,end):\n",
    "    for value in range(start,end+1,4):\n",
    "        print (value, end=\" \")\n",
    "    return\n",
    "alternatevalues(500,550)"
   ]
  },
  {
   "cell_type": "code",
   "execution_count": 25,
   "metadata": {},
   "outputs": [
    {
     "name": "stdout",
     "output_type": "stream",
     "text": [
      "10 9 8 7 6 5 4 3 2 1 "
     ]
    }
   ],
   "source": [
    "#function to print reverse of given range in the same line\n",
    "\n",
    "def reverserange(start,end):\n",
    "    for value in range(end,start-1,-1):\n",
    "        print(value, end=\" \")\n",
    "    return\n",
    "reverserange(1,10)\n",
    "    "
   ]
  },
  {
   "cell_type": "code",
   "execution_count": 29,
   "metadata": {},
   "outputs": [
    {
     "name": "stdout",
     "output_type": "stream",
     "text": [
      "129 127 125 123 "
     ]
    }
   ],
   "source": [
    "#function to print the odd numbers in reverse order in a range\n",
    "def reverseodd(start,end):\n",
    "    for i in range(end,start-1,-1):\n",
    "        if i%2!=0:\n",
    "            print(i,end=\" \")\n",
    "    return\n",
    "reverseodd(123,130)"
   ]
  },
  {
   "cell_type": "code",
   "execution_count": 30,
   "metadata": {},
   "outputs": [
    {
     "data": {
      "text/plain": [
       "55"
      ]
     },
     "execution_count": 30,
     "metadata": {},
     "output_type": "execute_result"
    }
   ],
   "source": [
    "#function to calculate the sum of numbers in a range\n",
    "\n",
    "def sumrange(start,end):\n",
    "    sum=0\n",
    "    for i in range(start,end+1):\n",
    "        sum=sum+i\n",
    "    return sum\n",
    "sumrange(1,10)"
   ]
  },
  {
   "cell_type": "code",
   "execution_count": 35,
   "metadata": {},
   "outputs": [
    {
     "name": "stdout",
     "output_type": "stream",
     "text": [
      "5.5\n"
     ]
    }
   ],
   "source": [
    "#function to calculate the average of a given range\n",
    "def avgofrange(start,end):\n",
    "    sum=0\n",
    "    count=0\n",
    "    for i in range(start,end+1):\n",
    "        count=count+1\n",
    "        sum=sum+i\n",
    "        a=sum/count\n",
    "    print(a)\n",
    "    return\n",
    "avgofrange(1,10)\n",
    "        "
   ]
  },
  {
   "cell_type": "code",
   "execution_count": null,
   "metadata": {},
   "outputs": [],
   "source": [
    "#function to calculate number of days for a given period\n",
    "#function to calculate number of hours for a given period\n",
    "\n",
    "def numberofdays(startyear,endyear):\n",
    "    sum=0\n",
    "    for year in range(startyear,endyear+1):\n",
    "        \n",
    "\n",
    "\n"
   ]
  },
  {
   "cell_type": "markdown",
   "metadata": {},
   "source": [
    "## Advanced Problem Set( Optional )\n",
    "### Function to calculate average of all factorials in a given range\n",
    "### Function to generate N odd armstrong numbers \n",
    "### Function to generate Multiplication table for a number in a given range\n",
    "#### 10 in the range(100, 102) inclusive\n",
    "#### 10 x 100 = 1000\n",
    "#### 10 x 101 = 1010\n",
    "#### 10 x 102 = 1020"
   ]
  },
  {
   "cell_type": "code",
   "execution_count": 42,
   "metadata": {},
   "outputs": [
    {
     "name": "stdout",
     "output_type": "stream",
     "text": [
      "enter 1st no  : 1\n",
      "enter 2nd no  : 5\n"
     ]
    },
    {
     "data": {
      "text/plain": [
       "30.6"
      ]
     },
     "execution_count": 42,
     "metadata": {},
     "output_type": "execute_result"
    }
   ],
   "source": [
    "#Function to calculate average of all factorials in a given range\n",
    "def factavg():\n",
    "   s=1\n",
    "   sum=0\n",
    "   l=int(input('enter 1st no  : '))\n",
    "   u=int(input('enter 2nd no  : '))\n",
    "   for i in range(1,u+1):\n",
    "       s=s*i\n",
    "       #print(s)\n",
    "       sum=sum+s\n",
    "   return sum/u\n",
    "factavg()\n"
   ]
  },
  {
   "cell_type": "code",
   "execution_count": null,
   "metadata": {},
   "outputs": [],
   "source": [
    "\n"
   ]
  }
 ],
 "metadata": {
  "kernelspec": {
   "display_name": "Python 3",
   "language": "python",
   "name": "python3"
  },
  "language_info": {
   "codemirror_mode": {
    "name": "ipython",
    "version": 3
   },
   "file_extension": ".py",
   "mimetype": "text/x-python",
   "name": "python",
   "nbconvert_exporter": "python",
   "pygments_lexer": "ipython3",
   "version": "3.7.3"
  }
 },
 "nbformat": 4,
 "nbformat_minor": 2
}
