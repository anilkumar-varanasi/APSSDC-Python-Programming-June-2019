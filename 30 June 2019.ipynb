{
 "cells": [
  {
   "cell_type": "markdown",
   "metadata": {},
   "source": [
    "### Python library for data analysis\n",
    "- Pandas-Data Analysis\n",
    "- Series Object-One-Dimensional Data\n",
    "- Data Frame Object-Two dimensional data\n",
    "- Reading Data from Csv Files Into Data Frames\n",
    "- Processing /Accessing Data Frames\n",
    "  - Columns\n",
    "  - Rows\n",
    "- Updating Data Frames \n",
    "- Writing Data Frame Back To Csv Files"
   ]
  },
  {
   "cell_type": "code",
   "execution_count": null,
   "metadata": {},
   "outputs": [],
   "source": [
    "filepath = 'income.csv'\n",
    "\n",
    "import pandas as pd\n",
    "\n",
    "def readcsv(filepath):\n",
    "   \n",
    "   return pd.read_csv(filepath)\n",
    "\n",
    "readcsv(filepath)"
   ]
  },
  {
   "cell_type": "code",
   "execution_count": 4,
   "metadata": {},
   "outputs": [
    {
     "name": "stdout",
     "output_type": "stream",
     "text": [
      "GEOID State 2005 2006 2007 2008 2009 2010 2011 2012 2013 "
     ]
    }
   ],
   "source": [
    "incomedf=readcsv(filepath)\n",
    "\n",
    "#function to print all column names in a single line\n",
    "#GEOID state 2005 2006 2007 2008 2009 2010 2011 2012 2013\n",
    "\n",
    "def printdataframecolumns(df):\n",
    "    columns=df.columns\n",
    "    for column in columns:\n",
    "        print(column,end=' ')\n",
    "    return\n",
    "printdataframecolumns(incomedf)"
   ]
  },
  {
   "cell_type": "code",
   "execution_count": 5,
   "metadata": {},
   "outputs": [
    {
     "name": "stdout",
     "output_type": "stream",
     "text": [
      "04000US02 Alaska 55891 56418 62993 63989 61604 57848 57431 63648 61137 "
     ]
    }
   ],
   "source": [
    "#function to access a row based on a unique column value\n",
    "\n",
    "def accessdataframerow(df,key):\n",
    "    for row in df.values:\n",
    "        if key in row:\n",
    "            for item in row:\n",
    "                print(item,end=' ')\n",
    "    return\n",
    "accessdataframerow(incomedf,'Alaska')"
   ]
  },
  {
   "cell_type": "code",
   "execution_count": 17,
   "metadata": {},
   "outputs": [
    {
     "data": {
      "text/plain": [
       "56134"
      ]
     },
     "execution_count": 17,
     "metadata": {},
     "output_type": "execute_result"
    }
   ],
   "source": [
    "#accessing a unique value based on row,column information\n",
    "#income of a state in a given year\n",
    "def getrowindex(df,rowkey):\n",
    "    for i in range(len(df.values)): \n",
    "       \n",
    "       if df.values[i][0] == rowkey or df.values[i][1]:\n",
    "           rowindex=i\n",
    "     return rowindex\n",
    "def getcolumnindex()\n",
    "def valueFromRowColumn(df,rowkey,columnkey):\n",
    "   \n",
    "   for i in range(len(df.values)): \n",
    "       \n",
    "       if df.values[i][0] == rowkey or df.values[i][1]:\n",
    "           rowindex=i\n",
    "           \n",
    "   for i in range(len(df.columns)):\n",
    "       if df.columns[i] == columnkey:\n",
    "           columnindex=i\n",
    "   return df.values[rowindex][columnindex]\n",
    "valueFromRowColumn(incomedf,'California','2009')\n",
    "       \n",
    "   \n",
    "    "
   ]
  },
  {
   "cell_type": "code",
   "execution_count": null,
   "metadata": {},
   "outputs": [],
   "source": [
    "#function to update data based on rowkey and columnkey\n",
    "\n",
    "def updatedatafromrowcolumn(df,rowkey,columnkey,newdata):\n",
    "    rowindex=getrowindex(df,rowkey)\n",
    "    columnindex=getcolumnindex(df,columnkey)\n",
    "    row=df.values[rowindex]\n",
    "    row[columnindex]=newdata\n",
    "    df.loc[rowindex]=row\n",
    "    return\n",
    "updatedatafromrowcolumn(incomedf,'Arizona','2007','62993')\n",
    "incomedf\n",
    "    "
   ]
  },
  {
   "cell_type": "code",
   "execution_count": 18,
   "metadata": {},
   "outputs": [],
   "source": [
    "#function to write dataframe to csv\n",
    "\n",
    "incomedf.to_csv(filepath,index=False)"
   ]
  },
  {
   "cell_type": "code",
   "execution_count": null,
   "metadata": {},
   "outputs": [],
   "source": [
    "#function to add a new row of data to dataframe\n",
    "\n",
    "def addrowdatadataframe(df,rowdata):\n",
    "    lastrowindex=len(df.values-1)\n",
    "    df.loc[lastrowindex+1]=rowdata\n",
    "    return\n",
    "\n",
    "rowdata=[1,2,3,4,5,6,7,8,9,10,11]\n",
    "addrowdatadataframe(incomedf,rowdata)\n",
    "\n",
    "incomedf"
   ]
  },
  {
   "cell_type": "code",
   "execution_count": null,
   "metadata": {},
   "outputs": [],
   "source": [
    "def deleterow(df,rowkey):\n",
    "    rowindex=getrowindex[rowkey]\n",
    "    df.drop[rowindex]\n",
    "    return\n",
    "deleterow(incomedf,1)\n",
    "incomedf"
   ]
  },
  {
   "cell_type": "code",
   "execution_count": 1,
   "metadata": {},
   "outputs": [
    {
     "data": {
      "text/html": [
       "<div>\n",
       "<style scoped>\n",
       "    .dataframe tbody tr th:only-of-type {\n",
       "        vertical-align: middle;\n",
       "    }\n",
       "\n",
       "    .dataframe tbody tr th {\n",
       "        vertical-align: top;\n",
       "    }\n",
       "\n",
       "    .dataframe thead th {\n",
       "        text-align: right;\n",
       "    }\n",
       "</style>\n",
       "<table border=\"1\" class=\"dataframe\">\n",
       "  <thead>\n",
       "    <tr style=\"text-align: right;\">\n",
       "      <th></th>\n",
       "      <th>GEOID</th>\n",
       "      <th>State</th>\n",
       "      <th>2005</th>\n",
       "      <th>2006</th>\n",
       "      <th>2007</th>\n",
       "      <th>2008</th>\n",
       "      <th>2009</th>\n",
       "      <th>2010</th>\n",
       "      <th>2011</th>\n",
       "      <th>2012</th>\n",
       "      <th>2013</th>\n",
       "    </tr>\n",
       "  </thead>\n",
       "  <tbody>\n",
       "    <tr>\n",
       "      <th>0</th>\n",
       "      <td>04000US01</td>\n",
       "      <td>Alabama</td>\n",
       "      <td>37150</td>\n",
       "      <td>37952</td>\n",
       "      <td>42212</td>\n",
       "      <td>44476</td>\n",
       "      <td>39980</td>\n",
       "      <td>40933</td>\n",
       "      <td>42590</td>\n",
       "      <td>43464</td>\n",
       "      <td>41381</td>\n",
       "    </tr>\n",
       "    <tr>\n",
       "      <th>1</th>\n",
       "      <td>04000US02</td>\n",
       "      <td>Alaska</td>\n",
       "      <td>55891</td>\n",
       "      <td>56418</td>\n",
       "      <td>62993</td>\n",
       "      <td>63989</td>\n",
       "      <td>61604</td>\n",
       "      <td>57848</td>\n",
       "      <td>57431</td>\n",
       "      <td>63648</td>\n",
       "      <td>61137</td>\n",
       "    </tr>\n",
       "    <tr>\n",
       "      <th>2</th>\n",
       "      <td>04000US04</td>\n",
       "      <td>Arizona</td>\n",
       "      <td>45245</td>\n",
       "      <td>46657</td>\n",
       "      <td>47215</td>\n",
       "      <td>46914</td>\n",
       "      <td>45739</td>\n",
       "      <td>46896</td>\n",
       "      <td>48621</td>\n",
       "      <td>47044</td>\n",
       "      <td>50602</td>\n",
       "    </tr>\n",
       "    <tr>\n",
       "      <th>3</th>\n",
       "      <td>04000US05</td>\n",
       "      <td>Arkansas</td>\n",
       "      <td>36658</td>\n",
       "      <td>37057</td>\n",
       "      <td>40795</td>\n",
       "      <td>39586</td>\n",
       "      <td>36538</td>\n",
       "      <td>38587</td>\n",
       "      <td>41302</td>\n",
       "      <td>39018</td>\n",
       "      <td>39919</td>\n",
       "    </tr>\n",
       "    <tr>\n",
       "      <th>4</th>\n",
       "      <td>04000US06</td>\n",
       "      <td>California</td>\n",
       "      <td>51755</td>\n",
       "      <td>55319</td>\n",
       "      <td>55734</td>\n",
       "      <td>57014</td>\n",
       "      <td>56134</td>\n",
       "      <td>54283</td>\n",
       "      <td>53367</td>\n",
       "      <td>57020</td>\n",
       "      <td>57528</td>\n",
       "    </tr>\n",
       "  </tbody>\n",
       "</table>\n",
       "</div>"
      ],
      "text/plain": [
       "       GEOID       State   2005   2006   2007   2008   2009   2010   2011  \\\n",
       "0  04000US01     Alabama  37150  37952  42212  44476  39980  40933  42590   \n",
       "1  04000US02      Alaska  55891  56418  62993  63989  61604  57848  57431   \n",
       "2  04000US04     Arizona  45245  46657  47215  46914  45739  46896  48621   \n",
       "3  04000US05    Arkansas  36658  37057  40795  39586  36538  38587  41302   \n",
       "4  04000US06  California  51755  55319  55734  57014  56134  54283  53367   \n",
       "\n",
       "    2012   2013  \n",
       "0  43464  41381  \n",
       "1  63648  61137  \n",
       "2  47044  50602  \n",
       "3  39018  39919  \n",
       "4  57020  57528  "
      ]
     },
     "execution_count": 1,
     "metadata": {},
     "output_type": "execute_result"
    }
   ],
   "source": [
    "# Reading csv file Data\n",
    "import pandas as pd\n",
    "filepath = 'income.csv'\n",
    "incomedf = pd.read_csv(filepath)\n",
    "incomedf"
   ]
  },
  {
   "cell_type": "code",
   "execution_count": 2,
   "metadata": {},
   "outputs": [
    {
     "name": "stdout",
     "output_type": "stream",
     "text": [
      "Alabama : 41126.444444444445 \n",
      "\n",
      "Alaska : 50616.5 \n",
      "\n",
      "Arizona : 49482.59259259259 \n",
      "\n",
      "Arkansas : 46819.166666666664 \n",
      "\n",
      "California : 48525.42222222222 \n",
      "\n"
     ]
    }
   ],
   "source": [
    "def averageofallstate(df):\n",
    "    sum=0\n",
    "    count=0\n",
    "    for row in range(0,5):\n",
    "        for column in range(2,11):\n",
    "            sum+=incomedf.values[row][column]\n",
    "            count+=1\n",
    "        avg =(sum/count)\n",
    "        print(incomedf.values[row][1],\":\",avg,\"\\n\")\n",
    "    return\n",
    "averageofallstate('incomedf')\n"
   ]
  },
  {
   "cell_type": "code",
   "execution_count": 3,
   "metadata": {},
   "outputs": [
    {
     "name": "stdout",
     "output_type": "stream",
     "text": [
      "Alabama : 42478.333333333336 \n",
      "\n",
      "Alaska : 51608.5 \n",
      "\n",
      "Arizona : 50657.555555555555 \n",
      "\n",
      "Arkansas : 48013.083333333336 \n",
      "\n",
      "California : 49604.8 \n",
      "\n"
     ]
    },
    {
     "data": {
      "text/plain": [
       "51608.5"
      ]
     },
     "execution_count": 3,
     "metadata": {},
     "output_type": "execute_result"
    }
   ],
   "source": [
    "def highestavgincome(df):\n",
    "   sum=0\n",
    "   count=0\n",
    "   li=[]\n",
    "   for row in range(0,5):\n",
    "       for column in range(8,11):\n",
    "           sum+=incomedf.values[row][column]\n",
    "           count+=1\n",
    "       avg =(sum/count)\n",
    "       li.append(avg)\n",
    "       print(incomedf.values[row][1],\":\",avg,\"\\n\")\n",
    "   return max(li)\n",
    "highestavgincome(incomedf)\n"
   ]
  },
  {
   "cell_type": "code",
   "execution_count": null,
   "metadata": {},
   "outputs": [],
   "source": []
  }
 ],
 "metadata": {
  "kernelspec": {
   "display_name": "Python 3",
   "language": "python",
   "name": "python3"
  },
  "language_info": {
   "codemirror_mode": {
    "name": "ipython",
    "version": 3
   },
   "file_extension": ".py",
   "mimetype": "text/x-python",
   "name": "python",
   "nbconvert_exporter": "python",
   "pygments_lexer": "ipython3",
   "version": "3.7.3"
  }
 },
 "nbformat": 4,
 "nbformat_minor": 2
}
