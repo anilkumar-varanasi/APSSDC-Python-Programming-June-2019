{
 "cells": [
  {
   "cell_type": "markdown",
   "metadata": {},
   "source": [
    "### Programming solving and programming in python-Day4\n",
    "#### Date:14-june-2019\n",
    "#### Day objectives\n",
    "##### Python Data structures\n",
    "Lists\n",
    "\n",
    "Tuples\n",
    "\n",
    "Dictionaries\n",
    "\n",
    "\n",
    "Basic Problem set on Data Structures\n",
    "\n",
    "Advanced Problem Set\n",
    "\n",
    "Packages and Modules in Python"
   ]
  },
  {
   "cell_type": "markdown",
   "metadata": {},
   "source": [
    "## Python Data Stractures\n",
    "\n",
    "### Lists"
   ]
  },
  {
   "cell_type": "code",
   "execution_count": 29,
   "metadata": {},
   "outputs": [
    {
     "data": {
      "text/plain": [
       "456.0"
      ]
     },
     "execution_count": 29,
     "metadata": {},
     "output_type": "execute_result"
    }
   ],
   "source": [
    "li=[123,978,654]\n",
    "li #access the entire list\n",
    "li[1]  #access an element with index in a list\n",
    "li[1:] #access all elements from second element \n",
    "li[::-1]\n",
    "li\n",
    "li=li[::-1]\n",
    "li\n",
    "li[::2] #accessing even index elements\n",
    "li[1::2]\n",
    "#lists can be accessed,manipulated in two different ways\n",
    "  #Direct referencing-->[index]\n",
    "  #Indirect referencing-->Through function\n",
    "\n",
    "\n",
    "li=[123,456,789]\n",
    "li\n",
    "li.append(444) #adding an element in end of the list\n",
    "li.insert(1,234) #adding  a element in particular position\n",
    "li.sort() #sort element in ascending order\n",
    "li.pop() #remove the last element in the list\n",
    "li.pop(1) #remove the element at a particular position in list\n",
    "li.pop(1)\n",
    "li2=[234,456,789]\n",
    "li.extend(li2) #merge lit2 into list1\n",
    "sum(li) #gives sum of all elements in list\n",
    "max(li) #gives max value of list\n",
    "len(li) #number of elements in a list\n",
    "\n",
    "sum(li)/len(li)  #average of list elements\n",
    "\n",
    "sum(li[1::2])/len(li[1::2]) #average of all alternate elements\n"
   ]
  },
  {
   "cell_type": "code",
   "execution_count": 42,
   "metadata": {},
   "outputs": [
    {
     "data": {
      "text/plain": [
       "55"
      ]
     },
     "execution_count": 42,
     "metadata": {},
     "output_type": "execute_result"
    }
   ],
   "source": [
    "#function to identify the second largest element in list\n",
    "#function to that returns the nth largest number\n",
    "       #sort the data and select the second last element\n",
    "       #sort the data in reverse order and select\n",
    "       #remove the max element and then get the max element \n",
    "li1=[1,3,89,55]\n",
    "def secondlargest(li1,n):\n",
    "    li1.sort()\n",
    "    return li1[-n]\n",
    "secondlargest(li1,2)\n",
    "\n"
   ]
  },
  {
   "cell_type": "code",
   "execution_count": 44,
   "metadata": {},
   "outputs": [
    {
     "data": {
      "text/plain": [
       "0"
      ]
     },
     "execution_count": 44,
     "metadata": {},
     "output_type": "execute_result"
    }
   ],
   "source": [
    "#function to search for data in list\n",
    "#search for the key in the list and return the \n",
    "li=[123,345,567,789]\n",
    "def linearsearch(li,key):\n",
    "    for index in range(0,len(li)):\n",
    "        if li[index]==key:\n",
    "            return index\n",
    "    return -1\n",
    "\n",
    "def linearsearch2(li,key):\n",
    "    for element in li:\n",
    "        if element==key:\n",
    "            return li.index(element)\n",
    "    return -1\n",
    "\n",
    "def linearsearch3(li,key):\n",
    "    if key in li:\n",
    "        return li.index(key)\n",
    "    return -1\n",
    "linearsearch3(li,123)"
   ]
  },
  {
   "cell_type": "code",
   "execution_count": 45,
   "metadata": {},
   "outputs": [
    {
     "data": {
      "text/plain": [
       "2"
      ]
     },
     "execution_count": 45,
     "metadata": {},
     "output_type": "execute_result"
    }
   ],
   "source": [
    "#function to count the occurances of a character in the string\n",
    "s=\"anilkumar\"\n",
    "def countoccurances(s,c):\n",
    "    count=0\n",
    "    for ch in s:\n",
    "        if ch==c:\n",
    "            count=count+1\n",
    "    return count\n",
    "countoccurances(s,\"a\")"
   ]
  },
  {
   "cell_type": "code",
   "execution_count": 46,
   "metadata": {},
   "outputs": [
    {
     "data": {
      "text/plain": [
       "[1, 2, 3, 4, 5, 6]"
      ]
     },
     "execution_count": 46,
     "metadata": {},
     "output_type": "execute_result"
    }
   ],
   "source": [
    "s=\"1 2 3 4 5 6\"\n",
    "li=s.split()\n",
    "numberlist=[]\n",
    "for i in li:\n",
    "    numberlist.append(int(i))\n",
    "numberlist\n"
   ]
  },
  {
   "cell_type": "code",
   "execution_count": null,
   "metadata": {},
   "outputs": [],
   "source": []
  }
 ],
 "metadata": {
  "kernelspec": {
   "display_name": "Python 3",
   "language": "python",
   "name": "python3"
  },
  "language_info": {
   "codemirror_mode": {
    "name": "ipython",
    "version": 3
   },
   "file_extension": ".py",
   "mimetype": "text/x-python",
   "name": "python",
   "nbconvert_exporter": "python",
   "pygments_lexer": "ipython3",
   "version": "3.7.3"
  }
 },
 "nbformat": 4,
 "nbformat_minor": 2
}
