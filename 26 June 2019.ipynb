{
 "cells": [
  {
   "cell_type": "markdown",
   "metadata": {},
   "source": [
    "### Contacts Application\n",
    "addContact(name, phone, email)\n",
    "\n",
    "searchContact(name)\n",
    "\n",
    "listContacts()\n",
    "\n",
    "editContact(name, newphone, newemail)\n",
    "\n",
    "deleteContact(name) contactsApp()\n",
    " "
   ]
  },
  {
   "cell_type": "code",
   "execution_count": null,
   "metadata": {},
   "outputs": [],
   "source": [
    "# add contact\n",
    "def addcontact(name,phone,email):\n",
    "    filepath=\"contacts.txt\"\n",
    "    if not contact_exists():\n",
    "        if emailvalidator(email) and phonenumbervalidation(phone):\n",
    "            with open(filepath,'a') as f:\n",
    "                line=name+"
   ]
  },
  {
   "cell_type": "code",
   "execution_count": 2,
   "metadata": {},
   "outputs": [
    {
     "data": {
      "text/plain": [
       "7"
      ]
     },
     "execution_count": 2,
     "metadata": {},
     "output_type": "execute_result"
    }
   ],
   "source": [
    "# function to find the second largest number in the list\n",
    "def secondlargest(li):\n",
    "    #convert the list into a unique list\n",
    "    #o(n)\n",
    "    unique=[]\n",
    "    for n in li:\n",
    "        if n not in unique:\n",
    "            unique.append(n)\n",
    "    unique=sorted(unique,reverse=True)\n",
    "    return unique[1]\n",
    "secondlargest([1,2,3,4,8,7,4,3,4])\n"
   ]
  },
  {
   "cell_type": "code",
   "execution_count": 3,
   "metadata": {},
   "outputs": [
    {
     "data": {
      "text/plain": [
       "9"
      ]
     },
     "execution_count": 3,
     "metadata": {},
     "output_type": "execute_result"
    }
   ],
   "source": [
    "#ksmallest\n",
    "def ksmallest(li,k):\n",
    "    unique=[]\n",
    "    for n in li:\n",
    "        if n not in unique:\n",
    "            unique.append(n)\n",
    "    #sort the unique list in ascending order        \n",
    "    unique=sorted(unique)\n",
    "    #check if length of unique list is grater than\n",
    "    if len(unique)>=k:\n",
    "        return unique[k-1]\n",
    "    return -1\n",
    "ksmallest([3,3,9],2)"
   ]
  },
  {
   "cell_type": "code",
   "execution_count": 8,
   "metadata": {},
   "outputs": [
    {
     "data": {
      "text/plain": [
       "3"
      ]
     },
     "execution_count": 8,
     "metadata": {},
     "output_type": "execute_result"
    }
   ],
   "source": [
    "#function to identify the element with highest frequency in a list\n",
    "\n",
    "def highestFrequency(li):\n",
    "    unique = []\n",
    "    for n in li:\n",
    "        if n not in unique:\n",
    "            unique.append(n)\n",
    "    unique = sorted(unique,reverse = True)\n",
    "    highest = unique[1]\n",
    "    c = 0\n",
    "    for i in range(0,len(li)):\n",
    "        if li[i] == highest:\n",
    "            c+=1\n",
    "    #c = unique.count(unique[0])\n",
    "    return c\n",
    "highestFrequency([22,34,55,80,80,20,80,45,65,90])\n",
    "    "
   ]
  },
  {
   "cell_type": "code",
   "execution_count": 14,
   "metadata": {},
   "outputs": [
    {
     "data": {
      "text/plain": [
       "4"
      ]
     },
     "execution_count": 14,
     "metadata": {},
     "output_type": "execute_result"
    }
   ],
   "source": [
    "#function to identify the element with secondhighest frequency in a list\n",
    "def secondhighesttFrequency(li,k):\n",
    "   unique = {}\n",
    "   for n in li:\n",
    "       if n in unique:\n",
    "           unique[n]+=1\n",
    "       else:\n",
    "           unique[n]=1\n",
    "   x=[]\n",
    "   vq=[]\n",
    "   for item in unique.items():\n",
    "       x.append(item[1]) \n",
    "   for n in x:\n",
    "       if n not in vq:\n",
    "           vq.append(n)\n",
    "   vq=sorted(vq,reverse=True)\n",
    "   kl=[]\n",
    "   for item in unique.items():\n",
    "       if item[1]==vq[2-1]:\n",
    "           kl.append(item[0])\n",
    "   return min(kl)\n",
    "           \n",
    "       \n",
    "       \n",
    "secondhighesttFrequency([1,2,3,2,1,4,4,4,0,2,2,2],2)"
   ]
  },
  {
   "cell_type": "code",
   "execution_count": 10,
   "metadata": {},
   "outputs": [
    {
     "data": {
      "text/plain": [
       "4"
      ]
     },
     "execution_count": 10,
     "metadata": {},
     "output_type": "execute_result"
    }
   ],
   "source": [
    "#function to identify the element with kth largest frequency in a list\n",
    "def kthighesttFrequency(li,k):\n",
    "   unique = {}\n",
    "   for n in li:\n",
    "       if n in unique:\n",
    "           unique[n]+=1\n",
    "       else:\n",
    "           unique[n]=1\n",
    "   x=[]\n",
    "   vq=[]\n",
    "   for item in unique.items():\n",
    "       x.append(item[1]) \n",
    "   for n in x:\n",
    "       if n not in vq:\n",
    "           vq.append(n)\n",
    "   vq=sorted(vq,reverse=True)\n",
    "   kl=[]\n",
    "   for item in unique.items():\n",
    "       if item[1]==vq[k-1]:\n",
    "           kl.append(item[0])\n",
    "   return min(kl)\n",
    "           \n",
    "       \n",
    "       \n",
    "kthighesttFrequency([1,2,3,2,1,4,4,4,0,1,1],2)"
   ]
  },
  {
   "cell_type": "code",
   "execution_count": null,
   "metadata": {},
   "outputs": [],
   "source": []
  }
 ],
 "metadata": {
  "kernelspec": {
   "display_name": "Python 3",
   "language": "python",
   "name": "python3"
  },
  "language_info": {
   "codemirror_mode": {
    "name": "ipython",
    "version": 3
   },
   "file_extension": ".py",
   "mimetype": "text/x-python",
   "name": "python",
   "nbconvert_exporter": "python",
   "pygments_lexer": "ipython3",
   "version": "3.7.3"
  }
 },
 "nbformat": 4,
 "nbformat_minor": 2
}
