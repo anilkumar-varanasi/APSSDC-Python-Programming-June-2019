{
 "cells": [
  {
   "cell_type": "markdown",
   "metadata": {},
   "source": [
    "## Contacts Application\n",
    "\n",
    "addContact(name, phone, email)\n",
    "\n",
    "searchContact(name)\n",
    "\n",
    "listContacts()\n",
    "\n",
    "editContact(name, newphone, newemail)\n",
    "\n",
    "deleteContact(name) contactsApp() "
   ]
  },
  {
   "cell_type": "code",
   "execution_count": null,
   "metadata": {},
   "outputs": [],
   "source": [
    "# add contact\n",
    "def addcontact(name,phone,email):\n",
    "    filepath=\"contacts.txt\"\n",
    "    if not contact_exists():\n",
    "        if emailvalidator(email) and phonenumbervalidation(phone):\n",
    "            with open(filepath,'a') as f:\n",
    "                line=name+\n",
    "    "
   ]
  },
  {
   "cell_type": "code",
   "execution_count": null,
   "metadata": {},
   "outputs": [],
   "source": [
    "#"
   ]
  }
 ],
 "metadata": {
  "kernelspec": {
   "display_name": "Python 3",
   "language": "python",
   "name": "python3"
  },
  "language_info": {
   "codemirror_mode": {
    "name": "ipython",
    "version": 3
   },
   "file_extension": ".py",
   "mimetype": "text/x-python",
   "name": "python",
   "nbconvert_exporter": "python",
   "pygments_lexer": "ipython3",
   "version": "3.7.3"
  }
 },
 "nbformat": 4,
 "nbformat_minor": 2
}
