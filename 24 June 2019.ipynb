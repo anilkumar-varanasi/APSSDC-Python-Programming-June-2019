{
 "cells": [
  {
   "cell_type": "code",
   "execution_count": 1,
   "metadata": {},
   "outputs": [
    {
     "name": "stdout",
     "output_type": "stream",
     "text": [
      "['anil', 'kumar']\n",
      "anil : 2\n",
      "kumar : 2\n"
     ]
    }
   ],
   "source": [
    "def freqdistributionofwords1(filepath):\n",
    "    #Dictionary to be used\n",
    "       #keys->unique words\n",
    "       #values->count of unique words\n",
    "    \n",
    "    #Two lists\n",
    "       #allwords list-\n",
    "       #uniquewords list-\n",
    "    \n",
    "    #set\n",
    "    count=0\n",
    "    unique=[]\n",
    "    f=open(\"new.txt\",\"r\")\n",
    "    p=f.read().split()\n",
    "    for e in p:\n",
    "        if e not in unique:\n",
    "            unique.append(e)\n",
    "    print(unique)\n",
    "    for word in unique:\n",
    "        c=p.count(word)\n",
    "        print(word,\":\",c)\n",
    "    return\n",
    "freqdistributionofwords1('new.txt')\n"
   ]
  },
  {
   "cell_type": "code",
   "execution_count": null,
   "metadata": {},
   "outputs": [],
   "source": [
    "#contacts application\n",
    " #add,search,list,modify,delete contacts\n",
    "    \n",
    "#find and replace application\n",
    " #count the total number of occurances of a word\n",
    " #if word is existing\n",
    " #replace all occurances of a word with another word\n",
    "#marks analysis application\n",
    " #generate marks file for n students\n",
    " #input:marks text file--each line contains marks of one student\n",
    " #generates a report with the following information\n",
    "    #class average\n",
    "    # % of students passed\n",
    "    # % of students failed\n",
    "    # % of students with distinction\n",
    "    # highest mark frequency\n",
    "    # lowest mark frequency"
   ]
  },
  {
   "cell_type": "markdown",
   "metadata": {},
   "source": [
    "### Marks Analysis Report\n",
    " Generate Marks\n",
    " \n",
    " generateMarks(n, lb, ub)\n",
    " \n",
    " Generate a report of the following\n",
    " \n",
    " Class Average - classAverage(filepath)\n",
    " \n",
    " % Passed - passPercentage(filepath)\n",
    " \n",
    " % Failed - failPercentage(filepath)\n",
    " \n",
    " % Distinction - distinctionPercentage(filepath)\n",
    " \n",
    " Frequency of Highest mark - frequencyHighest(filepath)\n",
    " \n",
    " Frequency of lowest mark - frequencyLowest(filepath)\n",
    " \n",
    " GenerateReport(filepath):"
   ]
  },
  {
   "cell_type": "code",
   "execution_count": 24,
   "metadata": {},
   "outputs": [],
   "source": [
    "#function to generate marks data for n students\n",
    "from random import randint\n",
    "def generatemarks(n, lb, ub):\n",
    "    with open('Datafiles/marks.txt','w') as f:\n",
    "        for i in range(n):\n",
    "            r=randint(lb,ub)\n",
    "            f.write(str(r) + '\\n')\n",
    "        return\n",
    "    \n",
    "generatemarks(50,0,100)"
   ]
  },
  {
   "cell_type": "code",
   "execution_count": 25,
   "metadata": {},
   "outputs": [
    {
     "name": "stdout",
     "output_type": "stream",
     "text": [
      "43.94\n"
     ]
    }
   ],
   "source": [
    "#class avg\n",
    "def classavg(filepath):\n",
    "    sum=0\n",
    "    count=0\n",
    "    with open('Datafiles/marks.txt','r') as f:\n",
    "        for i in f:\n",
    "            sum=sum+int(i)\n",
    "            count=count+1\n",
    "        print(sum/count)\n",
    "classavg('Datafiles/marks.txt')"
   ]
  },
  {
   "cell_type": "code",
   "execution_count": 26,
   "metadata": {},
   "outputs": [
    {
     "name": "stdout",
     "output_type": "stream",
     "text": [
      "50.0\n"
     ]
    }
   ],
   "source": [
    "# % of pass\n",
    "def passpercentage(filepath):\n",
    "    count=0\n",
    "    mc=0\n",
    "    with open('Datafiles/marks.txt','r')as f:\n",
    "        for i in f:\n",
    "            mc=mc+1\n",
    "            if(int(i)>=35):\n",
    "                count=count+1\n",
    "        print((count/mc)*100)\n",
    "passpercentage('Datafiles/marks.txt')"
   ]
  },
  {
   "cell_type": "code",
   "execution_count": 27,
   "metadata": {},
   "outputs": [
    {
     "name": "stdout",
     "output_type": "stream",
     "text": [
      "50.0\n"
     ]
    }
   ],
   "source": [
    "# % of fail\n",
    "def failpercentage(filepath):\n",
    "    count=0\n",
    "    mc=0\n",
    "    with open('Datafiles/marks.txt','r')as f:\n",
    "        for i in f:\n",
    "            mc=mc+1\n",
    "            if(int(i)<35):\n",
    "                count=count+1\n",
    "        print((count/mc)*100)\n",
    "failpercentage('Datafiles/marks.txt')"
   ]
  },
  {
   "cell_type": "code",
   "execution_count": 28,
   "metadata": {},
   "outputs": [
    {
     "name": "stdout",
     "output_type": "stream",
     "text": [
      "24.0\n"
     ]
    }
   ],
   "source": [
    "# % of distinction\n",
    "def distinction(filepath):\n",
    "    count=0\n",
    "    mc=0\n",
    "    with open('Datafiles/marks.txt','r')as f:\n",
    "        for i in f:\n",
    "            mc=mc+1\n",
    "            if(int(i)>=75):\n",
    "                count=count+1\n",
    "        print((count/mc)*100)\n",
    "distinction('Datafiles/marks.txt')"
   ]
  },
  {
   "cell_type": "code",
   "execution_count": 29,
   "metadata": {},
   "outputs": [
    {
     "name": "stdout",
     "output_type": "stream",
     "text": [
      "99\n",
      "1\n"
     ]
    }
   ],
   "source": [
    "#frequency of highest mark\n",
    "def frequencyhighest(filepath):\n",
    "    with open('Datafiles/marks.txt','r')as f:\n",
    "        sp=f.read().split()\n",
    "        sp=list(map(int,sp))\n",
    "        print(max(sp))\n",
    "        print(sp.count(max(sp)))\n",
    "frequencyhighest('Datafiles/marks.txt')"
   ]
  },
  {
   "cell_type": "code",
   "execution_count": 30,
   "metadata": {},
   "outputs": [
    {
     "name": "stdout",
     "output_type": "stream",
     "text": [
      "0\n",
      "1\n"
     ]
    }
   ],
   "source": [
    "#frequency of lowest mark\n",
    "def frequencylowest(filepath):\n",
    "    with open('Datafiles/marks.txt','r')as f:\n",
    "        sp=f.read().split()\n",
    "        sp=list(map(int,sp))\n",
    "        print(min(sp))\n",
    "        print(sp.count(min(sp)))\n",
    "frequencylowest('Datafiles/marks.txt')\n"
   ]
  },
  {
   "cell_type": "code",
   "execution_count": 5,
   "metadata": {},
   "outputs": [
    {
     "ename": "SyntaxError",
     "evalue": "EOL while scanning string literal (<ipython-input-5-04db3df9a3f5>, line 4)",
     "output_type": "error",
     "traceback": [
      "\u001b[1;36m  File \u001b[1;32m\"<ipython-input-5-04db3df9a3f5>\"\u001b[1;36m, line \u001b[1;32m4\u001b[0m\n\u001b[1;33m    n=int(input(\"Choose option :\\n1).generatemarks\\n2).classavg\\n3).passpercentage\\n4).failpercentage\\n5).distiction\\n6).frequencyhighest\\n7).frequencylowest\\n8)))\u001b[0m\n\u001b[1;37m                                                                                                                                                                   ^\u001b[0m\n\u001b[1;31mSyntaxError\u001b[0m\u001b[1;31m:\u001b[0m EOL while scanning string literal\n"
     ]
    }
   ],
   "source": [
    "#marks analysis\n",
    "def marksanalysis(filepath):\n",
    "    while true:\n",
    "        n=int(input(\"Choose option :\\n1).generatemarks\\n2).classavg\\n3).passpercentage\\n4).failpercentage\\n5).distiction\\n6).frequencyhighest\\n7).frequencylowest\\n8)))\n",
    "         if(n==1):\n",
    "            st=int(input(\"Enter No of Students marks\"))\n",
    "             generatemarks(st,1,100)\n",
    "         elif(n==2):\n",
    "             print(classAvg(filepath))\n",
    "         elif(n==3):\n",
    "             print(passpercentage(filepath))\n",
    "         elif(n==4):\n",
    "             print(failpercentage(filepath))\n",
    "         elif(n==5):\n",
    "            print(distinction(filepath))\n",
    "         elif(n==6):\n",
    "             print(frequencyhighest(filepath))\n",
    "         elif(n==7):\n",
    "             print(frequencylowest(filepath))\n",
    "         else:\n",
    "             break\n",
    "marksAnalysis('Datafiles/marks.txt')"
   ]
  },
  {
   "cell_type": "code",
   "execution_count": null,
   "metadata": {},
   "outputs": [],
   "source": []
  },
  {
   "cell_type": "code",
   "execution_count": null,
   "metadata": {},
   "outputs": [],
   "source": []
  }
 ],
 "metadata": {
  "kernelspec": {
   "display_name": "Python 3",
   "language": "python",
   "name": "python3"
  },
  "language_info": {
   "codemirror_mode": {
    "name": "ipython",
    "version": 3
   },
   "file_extension": ".py",
   "mimetype": "text/x-python",
   "name": "python",
   "nbconvert_exporter": "python",
   "pygments_lexer": "ipython3",
   "version": "3.7.3"
  }
 },
 "nbformat": 4,
 "nbformat_minor": 2
}
