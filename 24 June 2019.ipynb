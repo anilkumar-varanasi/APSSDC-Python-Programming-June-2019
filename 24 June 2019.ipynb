{
 "cells": [
  {
   "cell_type": "code",
   "execution_count": 1,
   "metadata": {},
   "outputs": [
    {
     "name": "stdout",
     "output_type": "stream",
     "text": [
      "['anil', 'kumar']\n",
      "anil : 2\n",
      "kumar : 2\n"
     ]
    }
   ],
   "source": [
    "def freqdistributionofwords1(filepath):\n",
    "    #Dictionary to be used\n",
    "       #keys->unique words\n",
    "       #values->count of unique words\n",
    "    \n",
    "    #Two lists\n",
    "       #allwords list-\n",
    "       #uniquewords list-\n",
    "    \n",
    "    #set\n",
    "    count=0\n",
    "    unique=[]\n",
    "    f=open(\"new.txt\",\"r\")\n",
    "    p=f.read().split()\n",
    "    for e in p:\n",
    "        if e not in unique:\n",
    "            unique.append(e)\n",
    "    print(unique)\n",
    "    for word in unique:\n",
    "        c=p.count(word)\n",
    "        print(word,\":\",c)\n",
    "    return\n",
    "freqdistributionofwords1('new.txt')\n"
   ]
  },
  {
   "cell_type": "code",
   "execution_count": null,
   "metadata": {},
   "outputs": [],
   "source": [
    "#contacts application\n",
    " #add,search,list,modify,delete contacts\n",
    "    \n",
    "#find and replace application\n",
    " #count the total number of occurances of a word\n",
    " #if word is existing\n",
    " #replace all occurances of a word with another word\n",
    "#marks analysis application\n",
    " #generate marks file for n students\n",
    " #input:marks text file--each line contains marks of one student\n",
    " #generates a report with the following information\n",
    "    #class average\n",
    "    # % of students passed\n",
    "    # % of students failed\n",
    "    # % of students with distinction\n",
    "    # highest mark frequency\n",
    "    # lowest mark frequency"
   ]
  },
  {
   "cell_type": "code",
   "execution_count": null,
   "metadata": {},
   "outputs": [],
   "source": [
    "#function to generate marks data for n students\n",
    "from random import randint\n",
    "def generatemarks(n, lb, ub):\n",
    "    with open('Datafiles/marks.txt','w') as f:\n",
    "        for i in range(0,n):\n",
    "            r=randint(lb,ub)\n",
    "            f.write(str(r) + '\\n')\n",
    "        return\n",
    "    \n",
    "generatemarks(5,0,50)"
   ]
  }
 ],
 "metadata": {
  "kernelspec": {
   "display_name": "Python 3",
   "language": "python",
   "name": "python3"
  },
  "language_info": {
   "codemirror_mode": {
    "name": "ipython",
    "version": 3
   },
   "file_extension": ".py",
   "mimetype": "text/x-python",
   "name": "python",
   "nbconvert_exporter": "python",
   "pygments_lexer": "ipython3",
   "version": "3.7.3"
  }
 },
 "nbformat": 4,
 "nbformat_minor": 2
}
